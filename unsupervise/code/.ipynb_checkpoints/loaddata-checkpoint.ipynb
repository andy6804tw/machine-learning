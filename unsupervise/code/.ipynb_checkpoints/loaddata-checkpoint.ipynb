{
 "cells": [
  {
   "cell_type": "code",
   "execution_count": 1,
   "metadata": {},
   "outputs": [
    {
     "name": "stderr",
     "output_type": "stream",
     "text": [
      "Using TensorFlow backend.\n",
      "/Users/yilin/opt/anaconda3/lib/python3.7/site-packages/tensorflow/python/framework/dtypes.py:516: FutureWarning: Passing (type, 1) or '1type' as a synonym of type is deprecated; in a future version of numpy, it will be understood as (type, (1,)) / '(1,)type'.\n",
      "  _np_qint8 = np.dtype([(\"qint8\", np.int8, 1)])\n",
      "/Users/yilin/opt/anaconda3/lib/python3.7/site-packages/tensorflow/python/framework/dtypes.py:517: FutureWarning: Passing (type, 1) or '1type' as a synonym of type is deprecated; in a future version of numpy, it will be understood as (type, (1,)) / '(1,)type'.\n",
      "  _np_quint8 = np.dtype([(\"quint8\", np.uint8, 1)])\n",
      "/Users/yilin/opt/anaconda3/lib/python3.7/site-packages/tensorflow/python/framework/dtypes.py:518: FutureWarning: Passing (type, 1) or '1type' as a synonym of type is deprecated; in a future version of numpy, it will be understood as (type, (1,)) / '(1,)type'.\n",
      "  _np_qint16 = np.dtype([(\"qint16\", np.int16, 1)])\n",
      "/Users/yilin/opt/anaconda3/lib/python3.7/site-packages/tensorflow/python/framework/dtypes.py:519: FutureWarning: Passing (type, 1) or '1type' as a synonym of type is deprecated; in a future version of numpy, it will be understood as (type, (1,)) / '(1,)type'.\n",
      "  _np_quint16 = np.dtype([(\"quint16\", np.uint16, 1)])\n",
      "/Users/yilin/opt/anaconda3/lib/python3.7/site-packages/tensorflow/python/framework/dtypes.py:520: FutureWarning: Passing (type, 1) or '1type' as a synonym of type is deprecated; in a future version of numpy, it will be understood as (type, (1,)) / '(1,)type'.\n",
      "  _np_qint32 = np.dtype([(\"qint32\", np.int32, 1)])\n",
      "/Users/yilin/opt/anaconda3/lib/python3.7/site-packages/tensorflow/python/framework/dtypes.py:525: FutureWarning: Passing (type, 1) or '1type' as a synonym of type is deprecated; in a future version of numpy, it will be understood as (type, (1,)) / '(1,)type'.\n",
      "  np_resource = np.dtype([(\"resource\", np.ubyte, 1)])\n",
      "/Users/yilin/opt/anaconda3/lib/python3.7/site-packages/tensorboard/compat/tensorflow_stub/dtypes.py:541: FutureWarning: Passing (type, 1) or '1type' as a synonym of type is deprecated; in a future version of numpy, it will be understood as (type, (1,)) / '(1,)type'.\n",
      "  _np_qint8 = np.dtype([(\"qint8\", np.int8, 1)])\n",
      "/Users/yilin/opt/anaconda3/lib/python3.7/site-packages/tensorboard/compat/tensorflow_stub/dtypes.py:542: FutureWarning: Passing (type, 1) or '1type' as a synonym of type is deprecated; in a future version of numpy, it will be understood as (type, (1,)) / '(1,)type'.\n",
      "  _np_quint8 = np.dtype([(\"quint8\", np.uint8, 1)])\n",
      "/Users/yilin/opt/anaconda3/lib/python3.7/site-packages/tensorboard/compat/tensorflow_stub/dtypes.py:543: FutureWarning: Passing (type, 1) or '1type' as a synonym of type is deprecated; in a future version of numpy, it will be understood as (type, (1,)) / '(1,)type'.\n",
      "  _np_qint16 = np.dtype([(\"qint16\", np.int16, 1)])\n",
      "/Users/yilin/opt/anaconda3/lib/python3.7/site-packages/tensorboard/compat/tensorflow_stub/dtypes.py:544: FutureWarning: Passing (type, 1) or '1type' as a synonym of type is deprecated; in a future version of numpy, it will be understood as (type, (1,)) / '(1,)type'.\n",
      "  _np_quint16 = np.dtype([(\"quint16\", np.uint16, 1)])\n",
      "/Users/yilin/opt/anaconda3/lib/python3.7/site-packages/tensorboard/compat/tensorflow_stub/dtypes.py:545: FutureWarning: Passing (type, 1) or '1type' as a synonym of type is deprecated; in a future version of numpy, it will be understood as (type, (1,)) / '(1,)type'.\n",
      "  _np_qint32 = np.dtype([(\"qint32\", np.int32, 1)])\n",
      "/Users/yilin/opt/anaconda3/lib/python3.7/site-packages/tensorboard/compat/tensorflow_stub/dtypes.py:550: FutureWarning: Passing (type, 1) or '1type' as a synonym of type is deprecated; in a future version of numpy, it will be understood as (type, (1,)) / '(1,)type'.\n",
      "  np_resource = np.dtype([(\"resource\", np.ubyte, 1)])\n"
     ]
    }
   ],
   "source": [
    "import numpy as np\n",
    "import math \n",
    "from keras.datasets import mnist\n",
    "import matplotlib.pyplot as plt\n",
    "from sklearn.manifold import TSNE\n",
    "import base64\n",
    "%matplotlib inline"
   ]
  },
  {
   "cell_type": "code",
   "execution_count": 2,
   "metadata": {},
   "outputs": [
    {
     "name": "stdout",
     "output_type": "stream",
     "text": [
      "Training data shape: (60000, 784)\n"
     ]
    }
   ],
   "source": [
    "# load data\n",
    "(X_train, y_train), (X_test, y_test) = mnist.load_data()\n",
    "X_train=X_train.reshape(60000,-1)/255\n",
    "X_test=X_test.reshape(len(X_test),-1)/255\n",
    "print('Training data shape:',X_train.shape)"
   ]
  },
  {
   "cell_type": "code",
   "execution_count": 19,
   "metadata": {},
   "outputs": [
    {
     "data": {
      "text/plain": [
       "<matplotlib.image.AxesImage at 0x1a3b205250>"
      ]
     },
     "execution_count": 19,
     "metadata": {},
     "output_type": "execute_result"
    },
    {
     "data": {
      "image/png": "[encoded data removed]",
      "text/plain": [
       "<Figure size 432x288 with 1 Axes>"
      ]
     },
     "metadata": {
      "needs_background": "light"
     },
     "output_type": "display_data"
    }
   ],
   "source": [
    "plt.imshow(X_train[773].reshape(28,28))"
   ]
  },
  {
   "cell_type": "code",
   "execution_count": 52,
   "metadata": {},
   "outputs": [],
   "source": [
    "# Method1\n",
    "import cv2\n",
    "image = cv2.imread(\"./data/7-3.png\")[:,:,::-1]\n",
    "image = cv2.cvtColor(image, cv2.COLOR_BGR2GRAY)\n",
    "image=cv2.resize(image, (28,28), interpolation = cv2.INTER_AREA)/255\n",
    "reshapImg=image.reshape(-1)"
   ]
  },
  {
   "cell_type": "code",
   "execution_count": 45,
   "metadata": {},
   "outputs": [],
   "source": [
    "# Method2\n",
    "from PIL import Image\n",
    "img = Image.open('./data/7-3.png').convert(\"L\")\n",
    "img = img.resize((28,28))\n",
    "im2arr = np.array(img)\n",
    "im2arr = im2arr.reshape(1,28,28,1)"
   ]
  },
  {
   "cell_type": "code",
   "execution_count": 46,
   "metadata": {},
   "outputs": [
    {
     "data": {
      "text/plain": [
       "<matplotlib.image.AxesImage at 0x1a24779650>"
      ]
     },
     "execution_count": 46,
     "metadata": {},
     "output_type": "execute_result"
    },
    {
     "data": {
      "image/png": "[encoded data removed]",
      "text/plain": [
       "<Figure size 432x288 with 1 Axes>"
      ]
     },
     "metadata": {
      "needs_background": "light"
     },
     "output_type": "display_data"
    }
   ],
   "source": [
    "plt.imshow(image)"
   ]
  },
  {
   "cell_type": "code",
   "execution_count": 47,
   "metadata": {},
   "outputs": [],
   "source": [
    "# base64 to cv2\n",
    "def base64_cv2(base64_str):\n",
    "    imgString = base64.b64decode(base64_str)\n",
    "    nparr = np.fromstring(imgString,np.uint8)  \n",
    "    image = cv2.imdecode(nparr,cv2.IMREAD_COLOR)\n",
    "    return image"
   ]
  },
  {
   "cell_type": "code",
   "execution_count": 48,
   "metadata": {},
   "outputs": [],
   "source": [
    "# base64Image='iVBORw0KGgoAAAANSUhEUgAAAIwAAACMCAYAAACuwEE+AAAIf0lEQVR4Xu2dS89eUxTH/8stiqjbiLgFCYMmJsLM1LAmBvUBWjRRWpSQNCFUtGpQyhcgTFpDs8YIMyISSYVKmJBWQ4Nou2TXfl9P38vzrLXPOvvsy3qn79rr7P1fv2ft69mH4H+ugEIBUti6qSsAB8YhUCngwKjkcmMHxhlQKeDAqORyYwfGGVAp4MCo5NIZM/P7AB4BcPGKkmcBvEtE23Uep7d2YAxjwMx7AWwFcI3Q7XEiuk1oW4SZA2MQhgjKTgCXJLh7u6ZM48AkRDgUYeaQGQIk2xJBWXryWSJKAS2x5sOKOTBK/RK6nYVPIKJq4lBNRReqPrLBwG5nbu0cmJGDl9P9mKDEdniXlDOgYzzLcHwiqZ4PeiUqlWgzxvhkQTt9Wl0iCIvqxMw7ALwxcLaz6DGz/z8H4FBN0+mlync/6GXmzwDcr4l2gm1Y2f2IiLYklC2qSLfAjJxVzgDYT0S7i4q2QWW6BGbErHIq7hE1B0q3XRIzfwHgPoMf25KLkE3eA7CPiH4w9Fukq64yDDMfB3CLUSSa7Xbm6dMFMHG8sh/ARQawdAlKN10SMx8F8KABKM2PTyQaNZ1hmPkwgM0SIdaxOX/QqZfxiUSnZoExmAl9TUSbJCL2ZNMkMAYzoc+J6IGeQJC2tTlgBmaWMKB9hojekgrYm11TwMTZ0IHEIB4jorsSy3ZTrDVgTgO4IiF6XxLRvQnluivSDDDMHE7qn0yI4BEiejihXJdFWgLmJwA3KqP4CRE9pCzTtXkTwDDzNwDuUUQyrK/s8sGtQrFoWj0wCQPdM0R0qV4qLxEUaAGYMBVe+SrqvOg+5ZklHf6qgUnILt8S0d3pcnnJ2oH5DcBGYRjDOdrriSiU8b9EBaoFJr4K8r2i3S8R0SsKezddQ4GagfkFwA3SqNb0dqG0TVPYVQlMwjT6FBFJr+CYIg7VPLM6YBIGuiEYPjMyQrJGYP4AcKWi/X5UQSHWItMageFFjZr5/19EtEFh76YLFKgKmISzLt4VGf8EqgEmYeziRxaMYalqa4CZVYt0RKTZLhhB2jZdVpFhEhbpqrpzpSa0agEmvIJ6q0LY23t4bVWhh5lp8cAkjF18kc4Mj9WOagBGu+7iM6POgdGsu3xKRBavxY4oed2ui84wyu7IF+kysFg6MJruyLsiB4bF3ZEfX8hAS8lneuMVqM8JZThNRFcJbd1sgALFdknM/Gs4Uilsm3dHQqGGmpUMjLQ78tdGhlKgKF8kMMrZ0estXm+qiGFW01KBEb9r5IPdrLyU9yKbMrswEVlcdJhX9YqfVlyGYWbN2ovvG2WGr0RgpIPdIJXPjnoGRnkEs6oPU2WO62iPKybDKMcunl1GQ2K+45KA0RzB9OzSMzB+BHOi6Cc8togMw8wHATyhqL8fwVSIZWlaCjDihToAPpW2JEDpa3JgfLCrjNjE5iUAo1mo8yOYDowfkpqYAdXjJ80wyu7ID0mpQjuO8dTAaNZefBtgHAZUXqcGRrxvNMYxhngMdCsAy9upwpgs3KfX5BdRagHGrDuKkIQ1nxxngAM8B4noedXPuGDjWoBJ7o4yAyINdbVZqApgJN1RXC3eprwVXBrgXHbhGwgfEtGjuR6ofU6VwMTZ1cuZuhWtplb2RV5ZUg0wnUCyFmxhYvBxKd90qgIYAEG0SetqlTYG+pk860waBGb5Ku9AoVsqPunmqwNTJ0qT3VThwNQJTKj1JNA4MP8BE75GGxbYdqfwEwfk4UspmhvKUx61sszPRHSThSOpj56BGQTJPIHjYuGTAC6XBmKAXfKiZsozewJmNEAkwo+Yhf4hosskdbCwaRWY8PW1Q0S03UKksX0wc8onlJerJVkJt2rD1MBo7oCZ1+bJ1yeGBiRmoNdSurGegNkLQHrL1MqYhCyys8VjBNq3KLoBJhCQuHiXdaA3NHuklNecRuwNGM0h8KB99d2PFCDpj6k3YHYAOCAVMac40jqNZefArKOsVJhQ3IFZLWJOTSadJS01XfktpObHLzO6iM489wiMplvq5uYGaebtDpiE2VIXWcaBmTM6lIoTXZxr/RN9zPwVgE2SAXWvGUY7vW42yzDzUQDiz/j0CoxmHBN+eE2OZZj5MIDNksyyZNMlMHEccwzAHQqxmsoyiZuQWbvnIqbVs4AoxzKhaPXQxG2ANxMPumdd+S4RGO31ZQGa7CfPFFlwXdMIyr4hL9/l7I7OL5xaNNzaBzOHneiUuv0J4IXSd7DjbvTjiW2clftI7veVUoJizccqf5qd2vV2GwC8U9oBKoN2zTb3byLKcQT0AomLBCZhIW89iE8QkfQjXaP8EGI2eQyA5Uc0sh7LnBWmZGBC92L1C8p+W0I8CP6sQbezEuRJXi9ZnsKP8rMycGqcvpf388bsqmKdXwWwwUCCtVz8TkRXj+Rb5LbYDBO7pUGHo0UK/G8kzkITXQxwkoiuU7bJ3LxoYCI0JwBca97yuhxmXWuZJ03xwERoUtZm6kJidW3D5UK7SlsiqAKY5QGI/psENUITDk09XRooxQ9650U6ZYOuEnK+I6I7S65rVRlmpZBx8LkHwMaSRRbUreisUsU6jEDkC0wiPPuNF8i01dDanwKwp9TuZ63GVJ1h1moQM/8I4GZt5DLZhwsBXqwJkJW6NAdMnFWFw1hT3NeyHncfENGWTFCO+pgmgZlVbML7e6vPJl10SZqfl+HGYJNwODAamtx2TQWa75I87rYKODC2ejbvzYFpPsS2DXRgbPVs3psD03yIbRvowNjq2bw3B6b5ENs20IGx1bN5bw5M8yG2baADY6tn894cmOZDbNtAB8ZWz+a9OTDNh9i2gQ6MrZ7Ne3Ngmg+xbQMdGFs9m/fmwDQfYtsGOjC2ejbvzYFpPsS2DXRgbPVs3psD03yIbRv4L4ag0qsZBUm5AAAAAElFTkSuQmCC'\n"
   ]
  },
  {
   "cell_type": "code",
   "execution_count": 49,
   "metadata": {},
   "outputs": [],
   "source": [
    "# image=base64_cv2(base64Image)\n",
    "# # image = cv2.cvtColor(image, cv2.COLOR_BGR2GRAY)\n",
    "# image=cv2.resize(image, (28,28), interpolation = cv2.INTER_AREA)/255\n",
    "# reshapImg=image.reshape(-1)"
   ]
  },
  {
   "cell_type": "code",
   "execution_count": 50,
   "metadata": {},
   "outputs": [],
   "source": [
    "# plt.imshow(image)"
   ]
  },
  {
   "cell_type": "code",
   "execution_count": 53,
   "metadata": {},
   "outputs": [
    {
     "name": "stdout",
     "output_type": "stream",
     "text": [
      "[-1.7451286  7.1458106]\n"
     ]
    }
   ],
   "source": [
    "import pickle\n",
    "\n",
    "testImg=''\n",
    "\n",
    "#读取Model\n",
    "with open('./resource/knn-35-4000-scale-all.pickle', 'rb') as f:\n",
    "    clf2 = pickle.load(f)\n",
    "    #测试读取后的Model\n",
    "    testImg=clf2.predict([reshapImg])[0]\n",
    "    print(testImg)\n"
   ]
  },
  {
   "cell_type": "code",
   "execution_count": 54,
   "metadata": {},
   "outputs": [],
   "source": [
    "allCenter=np.array([[ 17.89351408,  40.3974383 ],\n",
    "       [ 22.34058947, -29.7401498 ],\n",
    "       [ 40.84367465,  -0.17747073],\n",
    "       [ 15.63485097,  10.01957641],\n",
    "       [-40.03946422,  -6.24115686],\n",
    "       [-15.07509393,  15.77437033],\n",
    "       [-11.89785358,  40.31856031],\n",
    "       [ -5.35167924, -34.25424154],\n",
    "       [ -0.28426326,  -4.06609265],\n",
    "       [-23.64774371, -17.08729935]])\n",
    "data=np.array(testImg)"
   ]
  },
  {
   "cell_type": "code",
   "execution_count": 55,
   "metadata": {},
   "outputs": [
    {
     "name": "stdout",
     "output_type": "stream",
     "text": [
      "0 38.6179625560516\n",
      "1 44.05333008300104\n",
      "2 43.213847484995306\n",
      "3 17.615964942600595\n",
      "4 40.56682186272887\n",
      "5 15.878917400133698\n",
      "6 34.69162934957971\n",
      "7 41.55684690667511\n",
      "8 11.306675117518518\n",
      "9 32.66447864761038\n"
     ]
    },
    {
     "data": {
      "text/plain": [
       "8"
      ]
     },
     "execution_count": 55,
     "metadata": {},
     "output_type": "execute_result"
    }
   ],
   "source": [
    "arr=np.array([])\n",
    "for i in range(10):\n",
    "    dist=math.pow(math.pow(allCenter[i][0]-data[0],2)+math.pow(allCenter[i][1]-data[1],2),0.5)\n",
    "    arr=np.append(arr,dist)\n",
    "    print(i, dist)\n",
    "np.argmin(arr)"
   ]
  },
  {
   "cell_type": "code",
   "execution_count": 56,
   "metadata": {},
   "outputs": [
    {
     "data": {
      "text/plain": [
       "array([-1.7451286,  7.1458106], dtype=float32)"
      ]
     },
     "execution_count": 56,
     "metadata": {},
     "output_type": "execute_result"
    }
   ],
   "source": [
    "data"
   ]
  },
  {
   "cell_type": "code",
   "execution_count": null,
   "metadata": {},
   "outputs": [],
   "source": []
  }
 ],
 "metadata": {
  "kernelspec": {
   "display_name": "Python 3",
   "language": "python",
   "name": "python3"
  },
  "language_info": {
   "codemirror_mode": {
    "name": "ipython",
    "version": 3
   },
   "file_extension": ".py",
   "mimetype": "text/x-python",
   "name": "python",
   "nbconvert_exporter": "python",
   "pygments_lexer": "ipython3",
   "version": "3.7.4"
  }
 },
 "nbformat": 4,
 "nbformat_minor": 4
}
